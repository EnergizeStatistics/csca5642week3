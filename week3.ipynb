{
 "cells": [
  {
   "cell_type": "markdown",
   "id": "27f211be-f0b1-4928-8d87-2e985500e83b",
   "metadata": {},
   "source": [
    "# CSCA 5642 Introduction to Deep Learning Week 3 Homework"
   ]
  },
  {
   "cell_type": "markdown",
   "id": "bf367245-bbb2-44f4-a6a4-83fa7c4a1d4f",
   "metadata": {},
   "source": [
    "## Preparation"
   ]
  },
  {
   "cell_type": "code",
   "execution_count": 1,
   "id": "95418197-322f-4df2-a192-7b6f92b83b36",
   "metadata": {},
   "outputs": [
    {
     "name": "stderr",
     "output_type": "stream",
     "text": [
      "2024-02-29 10:51:11.689003: I tensorflow/core/util/port.cc:110] oneDNN custom operations are on. You may see slightly different numerical results due to floating-point round-off errors from different computation orders. To turn them off, set the environment variable `TF_ENABLE_ONEDNN_OPTS=0`.\n",
      "2024-02-29 10:51:11.711663: I tensorflow/core/platform/cpu_feature_guard.cc:182] This TensorFlow binary is optimized to use available CPU instructions in performance-critical operations.\n",
      "To enable the following instructions: SSE4.1 SSE4.2 AVX AVX2 AVX_VNNI FMA, in other operations, rebuild TensorFlow with the appropriate compiler flags.\n"
     ]
    }
   ],
   "source": [
    "import os\n",
    "from PIL import Image\n",
    "import numpy as np\n",
    "import pandas as pd\n",
    "import seaborn as sns\n",
    "import matplotlib.pyplot as plt\n",
    "import random\n",
    "\n",
    "from tensorflow.keras import models, layers\n",
    "from tensorflow.keras.preprocessing.image import ImageDataGenerator\n",
    "\n",
    "import keras_tuner as kt\n",
    "import tensorflow as tf\n",
    "\n",
    "# fix random seed for reproducibility\n",
    "SEED = 0\n",
    "np.random.seed(SEED)\n",
    "os.environ['PYTHONHASHSEED'] = str(SEED)\n",
    "random.seed(SEED)\n",
    "tf.random.set_seed(SEED)"
   ]
  },
  {
   "cell_type": "code",
   "execution_count": 43,
   "id": "21a079a2-ce54-4897-a82b-87b28b1e5781",
   "metadata": {},
   "outputs": [],
   "source": [
    "project_root = '/home/lee/Documents/CSCA5642/week3/'\n",
    "data_folder = os.path.join(project_root, 'histopathologic-cancer-detection')\n",
    "train_dir = os.path.join(data_folder, 'train')\n",
    "test_dir = os.path.join(data_folder, 'test')\n",
    "model_folder = os.path.join(project_root, 'models')\n",
    "y = pd.read_csv(os.path.join(data_folder, 'train_labels.csv'))"
   ]
  },
  {
   "cell_type": "markdown",
   "id": "2a74062b-b3b7-45f0-93f9-8404dd37bbce",
   "metadata": {},
   "source": [
    "## Description of the problem and data\n",
    "\n"
   ]
  },
  {
   "cell_type": "markdown",
   "id": "ee4e386e-8108-418a-a164-f0249113a595",
   "metadata": {},
   "source": [
    "**Data source**: https://www.kaggle.com/c/histopathologic-cancer-detection/\n",
    "\n",
    "**Challenge problem**: This is a binary image classification problem. The input dataset contains small images taken from larger digital pathology scans. Our task is to use deep learning techniques to identify metastatic cancer from these images. "
   ]
  },
  {
   "cell_type": "markdown",
   "id": "d548a45e-004f-4a77-814c-d5103ea2f33a",
   "metadata": {},
   "source": [
    "### Size"
   ]
  },
  {
   "cell_type": "code",
   "execution_count": 3,
   "id": "28f2c0be-693e-40a2-a239-cc3fb71f5fe0",
   "metadata": {},
   "outputs": [
    {
     "name": "stdout",
     "output_type": "stream",
     "text": [
      "number of training files 220025\n",
      "number of test files 57458\n"
     ]
    }
   ],
   "source": [
    "# Get a list of all files in the folder\n",
    "train_list = os.listdir(train_dir)\n",
    "train_images = [file for file in train_list if file.endswith(\".tif\")]\n",
    "print(f'number of training files {len(train_images)}')\n",
    "\n",
    "test_list = os.listdir(test_dir)\n",
    "test_images = [file for file in test_list if file.endswith(\".tif\")]\n",
    "print(f'number of test files {len(test_images)}')"
   ]
  },
  {
   "cell_type": "markdown",
   "id": "5585686a-73cb-409e-a279-8f39589b97d9",
   "metadata": {},
   "source": [
    "### Image dimension and data dimension"
   ]
  },
  {
   "cell_type": "code",
   "execution_count": 4,
   "id": "d91f4ad9-6a0a-411f-b0a7-00a8b9f4c959",
   "metadata": {},
   "outputs": [
    {
     "name": "stdout",
     "output_type": "stream",
     "text": [
      "Training image sample\n"
     ]
    },
    {
     "data": {
      "image/jpeg": "[encoded data removed]",
      "image/png": "[encoded data removed]",
      "text/plain": [
       "<PIL.TiffImagePlugin.TiffImageFile image mode=RGB size=96x96>"
      ]
     },
     "metadata": {},
     "output_type": "display_data"
    },
    {
     "name": "stdout",
     "output_type": "stream",
     "text": [
      "Training image size: 96, 96\n"
     ]
    }
   ],
   "source": [
    "def find_image_size(image_dir, image_list):\n",
    "    sample_image = image_list[0]\n",
    "\n",
    "    # Open and display the sample image\n",
    "    with Image.open(os.path.join(image_dir, sample_image)) as img:\n",
    "        display(img)\n",
    "        img_width, img_height = img.size\n",
    "\n",
    "    return img_width, img_height\n",
    "    \n",
    "print('Training image sample')\n",
    "img_width, img_height = find_image_size(train_dir, train_images)\n",
    "print(f\"Training image size: {img_width}, {img_height}\")"
   ]
  },
  {
   "cell_type": "code",
   "execution_count": 5,
   "id": "c3fe3a81-8387-45c2-a9fc-0e8deac35fa9",
   "metadata": {},
   "outputs": [],
   "source": [
    "del train_list, train_images, test_list, test_images "
   ]
  },
  {
   "cell_type": "code",
   "execution_count": 6,
   "id": "7cafe6bc-f10c-484f-aeb2-ce7d37c8d875",
   "metadata": {},
   "outputs": [
    {
     "name": "stdout",
     "output_type": "stream",
     "text": [
      "shape of the labels dataframe (220025, 2)\n"
     ]
    }
   ],
   "source": [
    "print(f'shape of the labels dataframe {y.shape}')"
   ]
  },
  {
   "cell_type": "markdown",
   "id": "f0fdd904-c694-4017-b9b2-4124db2ca435",
   "metadata": {},
   "source": [
    "### Structure"
   ]
  },
  {
   "cell_type": "code",
   "execution_count": 7,
   "id": "f80f6646-7f8b-4ed1-8ca6-3b7aac94bca7",
   "metadata": {},
   "outputs": [
    {
     "name": "stdout",
     "output_type": "stream",
     "text": [
      "preview of the labels dataframe \n",
      "                                          id  label\n",
      "0  f38a6374c348f90b587e046aac6079959adf3835      0\n",
      "1  c18f2d887b7ae4f6742ee445113fa1aef383ed77      1\n",
      "2  755db6279dae599ebb4d39a9123cce439965282d      0\n",
      "3  bc3f0c64fb968ff4a8bd33af6971ecae77c75e08      0\n",
      "4  068aba587a4950175d04c680d38943fd488d6a9d      0\n"
     ]
    }
   ],
   "source": [
    "print(f'preview of the labels dataframe \\n {y.head()}')"
   ]
  },
  {
   "cell_type": "markdown",
   "id": "30d47ed3-472d-48de-82f7-1264000fc536",
   "metadata": {},
   "source": [
    "## Exploratory Data Analysis (EDA)  "
   ]
  },
  {
   "cell_type": "markdown",
   "id": "f02d03a0-c52a-49bd-9958-14da2f6065d3",
   "metadata": {},
   "source": [
    "### Inspect the data"
   ]
  },
  {
   "cell_type": "code",
   "execution_count": 8,
   "id": "ffad91bc-cdb9-47ea-ae11-c4408c5d668e",
   "metadata": {},
   "outputs": [
    {
     "name": "stdout",
     "output_type": "stream",
     "text": [
      "label\n",
      "0    130908\n",
      "1     89117\n",
      "Name: count, dtype: int64\n"
     ]
    }
   ],
   "source": [
    "print(y['label'].value_counts())"
   ]
  },
  {
   "cell_type": "code",
   "execution_count": 9,
   "id": "b6d79dee-8a41-4671-a1fc-6cb61990f1d3",
   "metadata": {},
   "outputs": [
    {
     "data": {
      "text/plain": [
       "label\n",
       "0    0.594969\n",
       "1    0.405031\n",
       "Name: proportion, dtype: float64"
      ]
     },
     "execution_count": 9,
     "metadata": {},
     "output_type": "execute_result"
    }
   ],
   "source": [
    "y['label'].value_counts(normalize=True)"
   ]
  },
  {
   "cell_type": "markdown",
   "id": "636f2eb1-070c-433a-a651-32632c465df4",
   "metadata": {},
   "source": [
    "The classes are reasonably balanced."
   ]
  },
  {
   "cell_type": "markdown",
   "id": "5dd7897e-3125-4275-8b56-d224bafb920e",
   "metadata": {},
   "source": [
    "### Visualize the data"
   ]
  },
  {
   "cell_type": "code",
   "execution_count": 45,
   "id": "e13accc8-8b02-44de-8ca5-bc70a78f3808",
   "metadata": {},
   "outputs": [
    {
     "data": {
      "image/png": "[encoded data removed]",
      "text/plain": [
       "<Figure size 640x480 with 1 Axes>"
      ]
     },
     "metadata": {},
     "output_type": "display_data"
    }
   ],
   "source": [
    "sns.histplot(y, x=\"label\")\n",
    "plt.xticks([0, 1])\n",
    "plt.title('Count of samples, by label')\n",
    "plt.tight_layout()\n",
    "plt.show()"
   ]
  },
  {
   "cell_type": "markdown",
   "id": "3610242f-de15-442c-b8f2-7bea4c0df8c9",
   "metadata": {},
   "source": [
    "## Analysis plan\n",
    "\n",
    "The image files do not require much processing. We will first fit a CNN model to perform this image classification. Then we will fit another CNN model with a different architecture and compare their performances. Then we will perform hyperparameter tuning on the selected model. "
   ]
  },
  {
   "cell_type": "markdown",
   "id": "e878c300-adc9-4cdf-a6c4-801d524c393a",
   "metadata": {},
   "source": [
    "## Model architecture"
   ]
  },
  {
   "cell_type": "markdown",
   "id": "b98ec39c-ed74-4012-8720-e99ddabdb8e2",
   "metadata": {},
   "source": [
    "Convolutional Neural Networks (CNNs) are a type of deep learning model commonly used for image-related tasks, thanks to its ability to automatically learn spatial hierarchies of features. We choose CNNs for this project as they have been highly successful in various tasks such as image classification, image recognition, and object detection, \n",
    "\n",
    "Architecture-wise, CNNs consist of multiple layers, including convolutional layers, pooling layers, and fully connected layers. Convolutional layers apply a series of filters (kernels) to input images to detect features like edges and textures. Pooling layers then downsample the feature maps generated by convolutional layers to reduce computational complexity and control overfitting. Finally, fully connected layers process the high-level features extracted by previous layers to make predictions."
   ]
  },
  {
   "cell_type": "markdown",
   "id": "7180b9dd-a5bd-414e-a9ab-230bddfc0469",
   "metadata": {},
   "source": [
    "### Helper functions"
   ]
  },
  {
   "cell_type": "code",
   "execution_count": 46,
   "id": "9326ff8d-146c-4d90-be39-d3c0b9146131",
   "metadata": {},
   "outputs": [],
   "source": [
    "def summarize_history(model_history):\n",
    "    \"\"\"Plot the relationship between the number of epochs and the selected model performance metric.\n",
    "    This plot can inform us whether we should train the model using more or fewer epochs. \n",
    "    \"\"\"\n",
    "    sns.lineplot(model_history.history['accuracy'], color='blue', label='train')\n",
    "    sns.lineplot(model_history.history['val_accuracy'], color='green', label='validation')\n",
    "    plt.title('model accuracy')\n",
    "    plt.ylabel('accuracy')\n",
    "    plt.xlabel('epoch')\n",
    "    plt.legend(loc='best')"
   ]
  },
  {
   "cell_type": "markdown",
   "id": "dae88857-2fe8-4acd-a41d-0a5219338699",
   "metadata": {},
   "source": [
    "### CNN model\n",
    "\n",
    "In popular CNN model architectures, we often see blocks of a couple of convolutional layers and then a pooling layer. When moving closer to the output there are usually fully connected layers. It is My first model contains 4 pairs of convolutional and maxpooling layers, before the fully connected layers."
   ]
  },
  {
   "cell_type": "code",
   "execution_count": 12,
   "id": "f2153ba5-c30b-474e-a1cf-cacbaf170045",
   "metadata": {},
   "outputs": [],
   "source": [
    "input_shape = (img_width, img_height, 3)"
   ]
  },
  {
   "cell_type": "code",
   "execution_count": 13,
   "id": "a7d3670b-c4fc-4a3f-b234-e04fee0c06c9",
   "metadata": {},
   "outputs": [
    {
     "name": "stderr",
     "output_type": "stream",
     "text": [
      "2024-02-29 10:51:38.229679: I tensorflow/compiler/xla/stream_executor/cuda/cuda_gpu_executor.cc:995] successful NUMA node read from SysFS had negative value (-1), but there must be at least one NUMA node, so returning NUMA node zero. See more at https://github.com/torvalds/linux/blob/v6.0/Documentation/ABI/testing/sysfs-bus-pci#L344-L355\n",
      "2024-02-29 10:51:38.243869: I tensorflow/compiler/xla/stream_executor/cuda/cuda_gpu_executor.cc:995] successful NUMA node read from SysFS had negative value (-1), but there must be at least one NUMA node, so returning NUMA node zero. See more at https://github.com/torvalds/linux/blob/v6.0/Documentation/ABI/testing/sysfs-bus-pci#L344-L355\n",
      "2024-02-29 10:51:38.243999: I tensorflow/compiler/xla/stream_executor/cuda/cuda_gpu_executor.cc:995] successful NUMA node read from SysFS had negative value (-1), but there must be at least one NUMA node, so returning NUMA node zero. See more at https://github.com/torvalds/linux/blob/v6.0/Documentation/ABI/testing/sysfs-bus-pci#L344-L355\n",
      "2024-02-29 10:51:38.244948: I tensorflow/compiler/xla/stream_executor/cuda/cuda_gpu_executor.cc:995] successful NUMA node read from SysFS had negative value (-1), but there must be at least one NUMA node, so returning NUMA node zero. See more at https://github.com/torvalds/linux/blob/v6.0/Documentation/ABI/testing/sysfs-bus-pci#L344-L355\n",
      "2024-02-29 10:51:38.245034: I tensorflow/compiler/xla/stream_executor/cuda/cuda_gpu_executor.cc:995] successful NUMA node read from SysFS had negative value (-1), but there must be at least one NUMA node, so returning NUMA node zero. See more at https://github.com/torvalds/linux/blob/v6.0/Documentation/ABI/testing/sysfs-bus-pci#L344-L355\n",
      "2024-02-29 10:51:38.245095: I tensorflow/compiler/xla/stream_executor/cuda/cuda_gpu_executor.cc:995] successful NUMA node read from SysFS had negative value (-1), but there must be at least one NUMA node, so returning NUMA node zero. See more at https://github.com/torvalds/linux/blob/v6.0/Documentation/ABI/testing/sysfs-bus-pci#L344-L355\n",
      "2024-02-29 10:51:38.302474: I tensorflow/compiler/xla/stream_executor/cuda/cuda_gpu_executor.cc:995] successful NUMA node read from SysFS had negative value (-1), but there must be at least one NUMA node, so returning NUMA node zero. See more at https://github.com/torvalds/linux/blob/v6.0/Documentation/ABI/testing/sysfs-bus-pci#L344-L355\n",
      "2024-02-29 10:51:38.302567: I tensorflow/compiler/xla/stream_executor/cuda/cuda_gpu_executor.cc:995] successful NUMA node read from SysFS had negative value (-1), but there must be at least one NUMA node, so returning NUMA node zero. See more at https://github.com/torvalds/linux/blob/v6.0/Documentation/ABI/testing/sysfs-bus-pci#L344-L355\n",
      "2024-02-29 10:51:38.302629: I tensorflow/compiler/xla/stream_executor/cuda/cuda_gpu_executor.cc:995] successful NUMA node read from SysFS had negative value (-1), but there must be at least one NUMA node, so returning NUMA node zero. See more at https://github.com/torvalds/linux/blob/v6.0/Documentation/ABI/testing/sysfs-bus-pci#L344-L355\n",
      "2024-02-29 10:51:38.302685: I tensorflow/core/common_runtime/gpu/gpu_device.cc:1639] Created device /job:localhost/replica:0/task:0/device:GPU:0 with 5868 MB memory:  -> device: 0, name: NVIDIA GeForce RTX 2060 SUPER, pci bus id: 0000:01:00.0, compute capability: 7.5\n"
     ]
    }
   ],
   "source": [
    "model_conv4 = models.Sequential()\n",
    "model_conv4.add(layers.Conv2D(32, (3, 3), activation='relu', input_shape=input_shape))\n",
    "model_conv4.add(layers.MaxPooling2D((2, 2)))\n",
    "model_conv4.add(layers.Conv2D(64, (3, 3), activation='relu'))\n",
    "model_conv4.add(layers.MaxPooling2D((2, 2)))\n",
    "model_conv4.add(layers.Conv2D(128, (3, 3), activation='relu'))\n",
    "model_conv4.add(layers.MaxPooling2D((2, 2)))\n",
    "model_conv4.add(layers.Conv2D(128, (3, 3), activation='relu'))\n",
    "model_conv4.add(layers.MaxPooling2D((2, 2)))\n",
    "model_conv4.add(layers.Flatten())\n",
    "model_conv4.add(layers.Dense(512, activation='relu'))\n",
    "model_conv4.add(layers.Dense(1, activation='sigmoid'))\n",
    "\n",
    "model_conv4.compile(optimizer='adam',\n",
    "              loss='binary_crossentropy',\n",
    "              metrics=['accuracy'])"
   ]
  },
  {
   "cell_type": "markdown",
   "id": "2bca74b7-dbbc-4b29-b8e7-25aab80f515b",
   "metadata": {},
   "source": [
    "### Model comparison\n",
    "\n",
    "Here we build another CNN model by adding another pair of convolutional and maxpooling layers."
   ]
  },
  {
   "cell_type": "code",
   "execution_count": 14,
   "id": "bb702295-3f18-4200-91f0-5c1d8d808e30",
   "metadata": {},
   "outputs": [],
   "source": [
    "model_conv5 = models.Sequential()\n",
    "model_conv5.add(layers.Conv2D(32, (3, 3), activation='relu', input_shape=input_shape))\n",
    "model_conv5.add(layers.MaxPooling2D((2, 2)))\n",
    "model_conv5.add(layers.Conv2D(64, (3, 3), activation='relu'))\n",
    "model_conv5.add(layers.MaxPooling2D((2, 2)))\n",
    "model_conv5.add(layers.Conv2D(128, (3, 3), activation='relu'))\n",
    "model_conv5.add(layers.MaxPooling2D((2, 2)))\n",
    "model_conv5.add(layers.Conv2D(128, (3, 3), activation='relu'))\n",
    "model_conv5.add(layers.MaxPooling2D((2, 2)))\n",
    "model_conv5.add(layers.Conv2D(128, (3, 3), activation='relu'))\n",
    "model_conv5.add(layers.MaxPooling2D((2, 2)))\n",
    "model_conv5.add(layers.Flatten())\n",
    "model_conv5.add(layers.Dense(512, activation='relu'))\n",
    "model_conv5.add(layers.Dense(1, activation='sigmoid'))\n",
    "\n",
    "model_conv5.compile(optimizer='adam',\n",
    "              loss='binary_crossentropy',\n",
    "              metrics=['accuracy'])"
   ]
  },
  {
   "cell_type": "markdown",
   "id": "818e8184-1636-4898-a4bf-3de9f7c0ec83",
   "metadata": {},
   "source": [
    "## Results and analysis "
   ]
  },
  {
   "cell_type": "markdown",
   "id": "5a73c742-edd3-4fab-877a-3a72e6a870f0",
   "metadata": {},
   "source": [
    "### Prepare the training data"
   ]
  },
  {
   "cell_type": "code",
   "execution_count": 15,
   "id": "bc959419-1b5c-4242-be9a-6960e6a4992b",
   "metadata": {},
   "outputs": [],
   "source": [
    "y = y.astype('str')\n",
    "y['id'] += '.tif'"
   ]
  },
  {
   "cell_type": "code",
   "execution_count": 16,
   "id": "c67c9dc7-a071-49af-a96d-de8c16713ab5",
   "metadata": {},
   "outputs": [],
   "source": [
    "# Parameters\n",
    "batch_size = 32\n",
    "epochs = 10"
   ]
  },
  {
   "cell_type": "code",
   "execution_count": 17,
   "id": "4661850f-1433-4b25-bfb5-7cdff37faf65",
   "metadata": {},
   "outputs": [
    {
     "name": "stdout",
     "output_type": "stream",
     "text": [
      "Found 176020 validated image filenames belonging to 2 classes.\n",
      "Found 44005 validated image filenames belonging to 2 classes.\n"
     ]
    }
   ],
   "source": [
    "x_train = ImageDataGenerator(\n",
    "    validation_split = 0.2\n",
    ").flow_from_dataframe(\n",
    "    dataframe = y,\n",
    "    directory = train_dir,\n",
    "    x_col = 'id',\n",
    "    y_col = 'label',\n",
    "    target_size = (img_width, img_height),\n",
    "    class_mode = 'binary',\n",
    "    subset = 'training'\n",
    ")\n",
    "\n",
    "x_val = ImageDataGenerator(\n",
    "    validation_split = 0.2\n",
    ").flow_from_dataframe(\n",
    "    dataframe = y,\n",
    "    directory = train_dir,\n",
    "    x_col = 'id',\n",
    "    y_col = 'label',\n",
    "    target_size = (img_width, img_height),\n",
    "    class_mode = 'binary',\n",
    "    subset = 'validation'\n",
    ")"
   ]
  },
  {
   "cell_type": "markdown",
   "id": "3bae780e-d48f-4ed1-ad08-fd2e4205cf0e",
   "metadata": {},
   "source": [
    "### Train the models"
   ]
  },
  {
   "cell_type": "code",
   "execution_count": 21,
   "id": "31e24a55-47f7-425e-9afe-d7297d58eeae",
   "metadata": {},
   "outputs": [
    {
     "name": "stdout",
     "output_type": "stream",
     "text": [
      "Epoch 1/10\n",
      "5500/5500 [==============================] - 41s 7ms/step - loss: 0.2143 - accuracy: 0.9172 - val_loss: 0.2543 - val_accuracy: 0.8941\n",
      "Epoch 2/10\n",
      "5500/5500 [==============================] - 42s 8ms/step - loss: 0.2065 - accuracy: 0.9193 - val_loss: 0.2403 - val_accuracy: 0.9120\n",
      "Epoch 3/10\n",
      "5500/5500 [==============================] - 41s 8ms/step - loss: 0.1999 - accuracy: 0.9228 - val_loss: 0.2600 - val_accuracy: 0.9013\n",
      "Epoch 4/10\n",
      "5500/5500 [==============================] - 42s 8ms/step - loss: 0.2021 - accuracy: 0.9218 - val_loss: 0.2460 - val_accuracy: 0.9075\n",
      "Epoch 5/10\n",
      "5500/5500 [==============================] - 41s 8ms/step - loss: 0.1909 - accuracy: 0.9269 - val_loss: 0.2687 - val_accuracy: 0.8854\n",
      "Epoch 6/10\n",
      "5500/5500 [==============================] - 42s 8ms/step - loss: 0.1837 - accuracy: 0.9300 - val_loss: 0.2456 - val_accuracy: 0.9127\n",
      "Epoch 7/10\n",
      "5500/5500 [==============================] - 42s 8ms/step - loss: 0.1773 - accuracy: 0.9322 - val_loss: 0.2771 - val_accuracy: 0.8835\n",
      "Epoch 8/10\n",
      "5500/5500 [==============================] - 42s 8ms/step - loss: 0.3161 - accuracy: 0.8708 - val_loss: 0.2592 - val_accuracy: 0.9037\n",
      "Epoch 9/10\n",
      "5500/5500 [==============================] - 42s 8ms/step - loss: 0.3483 - accuracy: 0.8542 - val_loss: 0.3885 - val_accuracy: 0.8320\n",
      "Epoch 10/10\n",
      "5500/5500 [==============================] - 42s 8ms/step - loss: 0.3385 - accuracy: 0.8610 - val_loss: 0.3165 - val_accuracy: 0.8829\n"
     ]
    }
   ],
   "source": [
    "history_conv4 = model_conv4.fit(\n",
    "    x_train,\n",
    "    steps_per_epoch=x_train.samples // batch_size,\n",
    "    epochs=epochs,\n",
    "    validation_data=x_val,\n",
    "    validation_steps=x_val.samples // batch_size)"
   ]
  },
  {
   "cell_type": "code",
   "execution_count": 32,
   "id": "62834eeb-bdaa-48cd-b31a-f0a6648b951f",
   "metadata": {},
   "outputs": [
    {
     "data": {
      "image/png": "[encoded data removed]",
      "text/plain": [
       "<Figure size 640x480 with 1 Axes>"
      ]
     },
     "metadata": {},
     "output_type": "display_data"
    }
   ],
   "source": [
    "summarize_history(history_conv4)"
   ]
  },
  {
   "cell_type": "code",
   "execution_count": 23,
   "id": "7af7f2aa-a84b-48d0-9f90-f03edfd5aafd",
   "metadata": {},
   "outputs": [
    {
     "name": "stdout",
     "output_type": "stream",
     "text": [
      "Epoch 1/10\n",
      "5500/5500 [==============================] - 42s 8ms/step - loss: 0.2681 - accuracy: 0.9079 - val_loss: 0.2303 - val_accuracy: 0.9104\n",
      "Epoch 2/10\n",
      "5500/5500 [==============================] - 43s 8ms/step - loss: 0.1902 - accuracy: 0.9265 - val_loss: 0.2378 - val_accuracy: 0.9027\n",
      "Epoch 3/10\n",
      "5500/5500 [==============================] - 43s 8ms/step - loss: 0.2006 - accuracy: 0.9210 - val_loss: 0.3194 - val_accuracy: 0.8744\n",
      "Epoch 4/10\n",
      "5500/5500 [==============================] - 43s 8ms/step - loss: 0.2005 - accuracy: 0.9223 - val_loss: 0.2181 - val_accuracy: 0.9168\n",
      "Epoch 5/10\n",
      "5500/5500 [==============================] - 42s 8ms/step - loss: 0.1689 - accuracy: 0.9358 - val_loss: 0.2139 - val_accuracy: 0.9194\n",
      "Epoch 6/10\n",
      "5500/5500 [==============================] - 42s 8ms/step - loss: 0.1729 - accuracy: 0.9335 - val_loss: 0.2410 - val_accuracy: 0.9108\n",
      "Epoch 7/10\n",
      "5500/5500 [==============================] - 42s 8ms/step - loss: 0.1684 - accuracy: 0.9353 - val_loss: 0.2159 - val_accuracy: 0.9185\n",
      "Epoch 8/10\n",
      "5500/5500 [==============================] - 42s 8ms/step - loss: 0.1957 - accuracy: 0.9253 - val_loss: 0.2792 - val_accuracy: 0.8903\n",
      "Epoch 9/10\n",
      "5500/5500 [==============================] - 42s 8ms/step - loss: 0.2182 - accuracy: 0.9153 - val_loss: 0.2530 - val_accuracy: 0.9094\n",
      "Epoch 10/10\n",
      "5500/5500 [==============================] - 42s 8ms/step - loss: 0.1575 - accuracy: 0.9400 - val_loss: 0.2396 - val_accuracy: 0.9198\n"
     ]
    }
   ],
   "source": [
    "history_conv5 = model_conv5.fit(\n",
    "    x_train,\n",
    "    steps_per_epoch=x_train.samples // batch_size,\n",
    "    epochs=epochs,\n",
    "    validation_data=x_val,\n",
    "    validation_steps=x_val.samples // batch_size)"
   ]
  },
  {
   "cell_type": "code",
   "execution_count": 33,
   "id": "3b14231f-61b1-4f8e-bb72-49d8c9109779",
   "metadata": {},
   "outputs": [
    {
     "data": {
      "image/png": "[encoded data removed]",
      "text/plain": [
       "<Figure size 640x480 with 1 Axes>"
      ]
     },
     "metadata": {},
     "output_type": "display_data"
    }
   ],
   "source": [
    "summarize_history(history_conv5)"
   ]
  },
  {
   "cell_type": "markdown",
   "id": "f3c89501-b44e-4dc8-b3ce-452ea576ab5a",
   "metadata": {},
   "source": [
    "The model with the extra convolutional-pooling pair performs better than the other one. Next we will further optimize it via hyperparameter tuning."
   ]
  },
  {
   "cell_type": "markdown",
   "id": "73ff14d0-735b-44a9-b6ad-011626035820",
   "metadata": {},
   "source": [
    "### Hyperparameter optimization\n",
    "\n",
    "Here we will search for optimal number of units in the fully connected layer and learning rate. "
   ]
  },
  {
   "cell_type": "code",
   "execution_count": 34,
   "id": "ba1c0456-6b84-48d1-abad-ecb3fb8e2c73",
   "metadata": {},
   "outputs": [],
   "source": [
    "def model_builder(hp):\n",
    "\n",
    "    model = models.Sequential()\n",
    "    model.add(layers.Conv2D(32, (3, 3), activation='relu', input_shape=input_shape))\n",
    "    model.add(layers.MaxPooling2D((2, 2)))\n",
    "    model.add(layers.Conv2D(64, (3, 3), activation='relu'))\n",
    "    model.add(layers.MaxPooling2D((2, 2)))\n",
    "    model.add(layers.Conv2D(128, (3, 3), activation='relu'))\n",
    "    model.add(layers.MaxPooling2D((2, 2)))\n",
    "    model.add(layers.Conv2D(128, (3, 3), activation='relu'))\n",
    "    model.add(layers.MaxPooling2D((2, 2)))\n",
    "    model.add(layers.Conv2D(128, (3, 3), activation='relu'))\n",
    "    model.add(layers.MaxPooling2D((2, 2)))\n",
    "    model.add(layers.Flatten())\n",
    "    hp_units = hp.Int('units', min_value=128, max_value=512, step=32)\n",
    "    model.add(layers.Dense(hp_units, activation='relu'))\n",
    "    model.add(layers.Dense(1, activation='sigmoid'))\n",
    "\n",
    "    hp_learning_rate = hp.Choice('learning_rate', values=[1e-2, 1e-3, 1e-4])\n",
    "    model.compile(optimizer=tf.keras.optimizers.Adam(learning_rate=hp_learning_rate),\n",
    "                  loss='binary_crossentropy',\n",
    "                  metrics=['accuracy'])\n",
    "\n",
    "    return model"
   ]
  },
  {
   "cell_type": "code",
   "execution_count": 35,
   "id": "8ed5050d-6546-4043-808f-a1349aeb3198",
   "metadata": {},
   "outputs": [],
   "source": [
    "tuner = kt.Hyperband(model_builder,\n",
    "                     objective='val_accuracy',\n",
    "                     max_epochs=epochs,\n",
    "                     factor=3,\n",
    "                     )"
   ]
  },
  {
   "cell_type": "code",
   "execution_count": 36,
   "id": "e25831a7-5973-4213-ba2d-37e2a8c654d2",
   "metadata": {},
   "outputs": [],
   "source": [
    "stop_early = tf.keras.callbacks.EarlyStopping(monitor='val_loss', patience=5)"
   ]
  },
  {
   "cell_type": "code",
   "execution_count": 38,
   "id": "e0585b39-d3f2-4d31-91d4-03db6d3e9ca8",
   "metadata": {},
   "outputs": [
    {
     "name": "stdout",
     "output_type": "stream",
     "text": [
      "Trial 30 Complete [00h 12m 31s]\n",
      "val_accuracy: 0.5961368083953857\n",
      "\n",
      "Best val_accuracy So Far: 0.9184183478355408\n",
      "Total elapsed time: 01h 30m 20s\n",
      "\n",
      "The hyperparameter search is complete. The optimal number of units in the last dense\n",
      "layer is 384 and the optimal learning rate for the optimizer\n",
      "is 0.001.\n",
      "\n"
     ]
    }
   ],
   "source": [
    "tuner.search(x_train, epochs=epochs, validation_data=x_val, callbacks=[stop_early])\n",
    "\n",
    "# Get the optimal hyperparameters\n",
    "best_hps = tuner.get_best_hyperparameters(num_trials=1)[0]\n",
    "\n",
    "print(f\"\"\"\n",
    "The hyperparameter search is complete. The optimal number of units in the last dense\n",
    "layer is {best_hps.get('units')} and the optimal learning rate for the optimizer\n",
    "is {best_hps.get('learning_rate')}.\n",
    "\"\"\")"
   ]
  },
  {
   "cell_type": "code",
   "execution_count": 40,
   "id": "242268f3-a029-4e70-9fd0-9801b4d5439d",
   "metadata": {},
   "outputs": [
    {
     "name": "stdout",
     "output_type": "stream",
     "text": [
      "Epoch 1/10\n",
      "5500/5500 [==============================] - 42s 7ms/step - loss: 0.4623 - accuracy: 0.7945 - val_loss: 0.4461 - val_accuracy: 0.8061\n",
      "Epoch 2/10\n",
      "5500/5500 [==============================] - 42s 8ms/step - loss: 0.3555 - accuracy: 0.8475 - val_loss: 0.3140 - val_accuracy: 0.8696\n",
      "Epoch 3/10\n",
      "5500/5500 [==============================] - 43s 8ms/step - loss: 0.3107 - accuracy: 0.8700 - val_loss: 0.3065 - val_accuracy: 0.8723\n",
      "Epoch 4/10\n",
      "5500/5500 [==============================] - 43s 8ms/step - loss: 0.2842 - accuracy: 0.8837 - val_loss: 0.2951 - val_accuracy: 0.8740\n",
      "Epoch 5/10\n",
      "5500/5500 [==============================] - 43s 8ms/step - loss: 0.2608 - accuracy: 0.8937 - val_loss: 0.2684 - val_accuracy: 0.8947\n",
      "Epoch 6/10\n",
      "5500/5500 [==============================] - 43s 8ms/step - loss: 0.2455 - accuracy: 0.9009 - val_loss: 0.2778 - val_accuracy: 0.8878\n",
      "Epoch 7/10\n",
      "5500/5500 [==============================] - 43s 8ms/step - loss: 0.2329 - accuracy: 0.9078 - val_loss: 0.2653 - val_accuracy: 0.8906\n",
      "Epoch 8/10\n",
      "5500/5500 [==============================] - 43s 8ms/step - loss: 0.2319 - accuracy: 0.9082 - val_loss: 0.2251 - val_accuracy: 0.9110\n",
      "Epoch 9/10\n",
      "5500/5500 [==============================] - 43s 8ms/step - loss: 0.2065 - accuracy: 0.9196 - val_loss: 0.2314 - val_accuracy: 0.9118\n",
      "Epoch 10/10\n",
      "5500/5500 [==============================] - 43s 8ms/step - loss: 0.1926 - accuracy: 0.9250 - val_loss: 0.2262 - val_accuracy: 0.9148\n"
     ]
    }
   ],
   "source": [
    "# Build the model with the optimal hyperparameters \n",
    "model_tuned = tuner.hypermodel.build(best_hps)\n",
    "history_tuned = model_tuned.fit(\n",
    "    x_train,\n",
    "    steps_per_epoch=x_train.samples // batch_size,\n",
    "    epochs=epochs,\n",
    "    validation_data=x_val,\n",
    "    validation_steps=x_val.samples // batch_size)"
   ]
  },
  {
   "cell_type": "code",
   "execution_count": 44,
   "id": "ed89ea15-7e75-43f9-b621-901995f558cd",
   "metadata": {},
   "outputs": [],
   "source": [
    "model_tuned.save(os.path.join(model_folder, 'image_classifier_model.keras'))"
   ]
  },
  {
   "cell_type": "markdown",
   "id": "82d363a5-1d22-4701-a04b-65df100ae2f3",
   "metadata": {},
   "source": [
    "### Summary\n",
    "\n",
    "| Algorithm | Accuracy (in validation data) |\n",
    "| --- | ----------- |\n",
    "| CNN model with 4 convolutional-pooling pairs | 0.8829 |\n",
    "| CNN model with 5 convolutional-pooling pairs | 0.9198 |\n",
    "| CNN model with 5 convolutional-pooling pairs and hyperparameter optimization | 0.9148 |\n",
    "\n",
    "**What helped**: Including more convolutional layers in the architecture. "
   ]
  },
  {
   "cell_type": "markdown",
   "id": "2298d762-7c0c-458c-942a-40828cacfb64",
   "metadata": {},
   "source": [
    "## Conclusion"
   ]
  },
  {
   "cell_type": "markdown",
   "id": "8903f359-13aa-45b6-9be2-e6d211ed11d6",
   "metadata": {},
   "source": [
    "**What improved model performance**: Including more convolutional-pooling layer pairs in the model. \n",
    "\n",
    "**What did not help improve model performance**: Hyperparameter tuning, specifically, tuning the number of units in the fully connected layer and the learning rate. \n",
    "\n",
    "**Improvements to try in the future**:\n",
    "* tune other hyperparameters, such as the convolutional layer's kernel size, stride, etc.\n",
    "* add normalization layers\n",
    "* add more fully connected layers before the output\n",
    "* add more convolutional layers to the model"
   ]
  },
  {
   "cell_type": "code",
   "execution_count": 41,
   "id": "76288b47-a916-4bd0-9571-22a6af587c62",
   "metadata": {},
   "outputs": [
    {
     "name": "stdout",
     "output_type": "stream",
     "text": [
      "Found 57458 validated image filenames.\n"
     ]
    }
   ],
   "source": [
    "y_test = pd.read_csv(os.path.join(data_folder, 'sample_submission.csv'))\n",
    "\n",
    "y_test = y_test.astype('str')\n",
    "y_test['id'] += '.tif'\n",
    "\n",
    "# Ensure shuffle = False\n",
    "x_test = ImageDataGenerator(\n",
    ").flow_from_dataframe(\n",
    "    dataframe = y_test,\n",
    "    directory = test_dir,\n",
    "    x_col = 'id',\n",
    "    y_col = None,\n",
    "    target_size = (96, 96),\n",
    "    class_mode = None,\n",
    "    shuffle = False\n",
    ")"
   ]
  },
  {
   "cell_type": "code",
   "execution_count": 42,
   "id": "1393614f-14b5-4530-96b6-67212eba55a8",
   "metadata": {},
   "outputs": [
    {
     "name": "stdout",
     "output_type": "stream",
     "text": [
      "1796/1796 [==============================] - 727s 405ms/step\n"
     ]
    }
   ],
   "source": [
    "pred_labels = model_tuned.predict(x_test)\n",
    "\n",
    "submit = pd.DataFrame()\n",
    "submit['id'] = y_test['id'].str.partition('.')[0]\n",
    "submit['label'] = pred_labels[:, 0]\n",
    "submit.to_csv(os.path.join(project_root, 'submit.csv'), index = False)"
   ]
  }
 ],
 "metadata": {
  "kernelspec": {
   "display_name": "Python 3 (ipykernel)",
   "language": "python",
   "name": "python3"
  },
  "language_info": {
   "codemirror_mode": {
    "name": "ipython",
    "version": 3
   },
   "file_extension": ".py",
   "mimetype": "text/x-python",
   "name": "python",
   "nbconvert_exporter": "python",
   "pygments_lexer": "ipython3",
   "version": "3.11.6"
  }
 },
 "nbformat": 4,
 "nbformat_minor": 5
}
